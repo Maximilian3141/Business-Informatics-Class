{
 "cells": [
  {
   "cell_type": "markdown",
   "metadata": {
    "id": "OylJsjOLvbnt"
   },
   "source": [
    "# Business Informatics\n",
    "# 2nd assignment: fishing lake problem (linear programming)\n",
    "#### submitted by: Maximilian3141\n",
    "#### Date: 2023.11.16\n",
    "\\\n",
    "The goal is to maximize the entertainment value of fishing at the lake while adhering to budget constraints set by three different companies (A, B, and C).\n",
    "\n",
    "### Decision Variables\n",
    "Let $x_c$ ,$x_b$ and $x_p$ represent the amount of carp, bream, and perch caught, respectively.\n",
    "\n",
    "### Objective Function\n",
    "Maximize the entertainment value ( $E$ ):\n",
    "\n",
    "$ E = 3x_c + 2x_b + 4x_p $\n",
    "\n",
    "### Constraints\n",
    "1. Company A's budget constraint:\n",
    "\n",
    "$ x_c + x_b + 2x_p \\leq 4 $\n",
    "\n",
    "2. Company B's budget constraint:\n",
    "\n",
    "$ 2x_c + 3x_b \\leq 5 $\n",
    "\n",
    "3. Company C's budget constraint:\n",
    "\n",
    "$ 2x_c + 2x_b + 4x_p \\leq 7 $\n",
    "\n",
    "4. Non-negativity constraints:\n",
    "\n",
    "$ x_c, x_b, x_p \\geq 0 $\n",
    "\n",
    "### Final Linear Programming Model\n",
    "Maximize:\n",
    "\n",
    "$$ E = 3x_c + 2x_b + 4x_p $$\n",
    "\n",
    "Subject to:\n",
    "\n",
    "\\begin{align*}\n",
    "x_c + x_b + 2x_p &\\leq 4 \\\\\n",
    "2x_c + 3x_b &\\leq 5 \\\\\n",
    "2x_c + 2x_b + 4x_p &\\leq 7 \\\\\n",
    "x_c, x_b, x_p &\\geq 0\n",
    "\\end{align*}\n",
    "\n",
    "This model aims to optimize the entertainment of fishing while respecting the budget constraints of the three companies.\n"
   ]
  },
  {
   "cell_type": "code",
   "execution_count": 5,
   "metadata": {
    "id": "uyUvA0R8lvUo"
   },
   "outputs": [],
   "source": [
    "# Install dependencies\n",
    "%pip install -q amplpy"
   ]
  },
  {
   "cell_type": "code",
   "execution_count": 6,
   "metadata": {
    "colab": {
     "base_uri": "https://localhost:8080/"
    },
    "id": "ddGFQ936mATT",
    "outputId": "76e0f581-f129-42bb-adbf-33426487b8c7",
    "scrolled": true
   },
   "outputs": [
    {
     "name": "stdout",
     "output_type": "stream",
     "text": [
      "Using default Community Edition License for Colab. Get yours at: https://ampl.com/ce\n",
      "Licensed to AMPL Community Edition License for the AMPL Model Colaboratory (https://colab.ampl.com).\n"
     ]
    }
   ],
   "source": [
    "# Google Colab & Kaggle integration\n",
    "from amplpy import AMPL, ampl_notebook\n",
    "\n",
    "ampl = ampl_notebook(\n",
    "    modules=[\"coin\"],  # modules to install\n",
    "    license_uuid=\"default\",  # license to use\n",
    ")  # instantiate AMPL object and register magics"
   ]
  },
  {
   "cell_type": "markdown",
   "metadata": {
    "id": "3wuUo_6Q5QOd"
   },
   "source": [
    "### CBC Solver"
   ]
  },
  {
   "cell_type": "code",
   "execution_count": 21,
   "metadata": {
    "colab": {
     "base_uri": "https://localhost:8080/"
    },
    "id": "c2FSeMGC3myB",
    "outputId": "2c02a045-31e7-4f0c-d53d-bbb47bd7d2f7"
   },
   "outputs": [
    {
     "name": "stdout",
     "output_type": "stream",
     "text": [
      "cbc 2.10.10: \b\b\b\b\b\b\b\b\b\b\b\b\bcbc 2.10.10: optimal solution; objective 9.5\n",
      "0 simplex iterations\n",
      " \n",
      "Optimal Catch:\n",
      "carp: 2.5 kilograms\n",
      "bream: 0.0 kilograms\n",
      "perch: 0.5 kilograms\n",
      "Total Entertainment Value: 9.50\n"
     ]
    }
   ],
   "source": [
    "# Create an AMPL instance\n",
    "ampl = AMPL()\n",
    "\n",
    "# Load the AMPL model from a string (the model provided earlier)\n",
    "ampl.eval(\"\"\"\n",
    "set FishTypes;\n",
    "set Companies;\n",
    "\n",
    "param EntertainmentValue{FishTypes};\n",
    "param Price{Companies, FishTypes};\n",
    "param MaxBudget{Companies};\n",
    "\n",
    "var Catch{FishTypes} >= 0;\n",
    "\n",
    "maximize TotalEntertainment:\n",
    "    sum{f in FishTypes} EntertainmentValue[f] * Catch[f];\n",
    "\n",
    "subject to CompanyBudgetConstraint{c in Companies}:\n",
    "    sum{f in FishTypes} Price[c, f] * Catch[f] <= MaxBudget[c];\n",
    "\"\"\")\n",
    "\n",
    "# Set the data for the model\n",
    "fish_types = ampl.getSet(\"FishTypes\")\n",
    "companies = ampl.getSet(\"Companies\")\n",
    "\n",
    "entertainment_values = {'carp': 3, 'bream': 2, 'perch': 4}\n",
    "prices = {'A': {'carp': 1, 'bream': 1, 'perch': 2},\n",
    "          'B': {'carp': 2, 'bream': 3, 'perch': 0},\n",
    "          'C': {'carp': 2, 'bream': 2, 'perch': 4}}\n",
    "max_budgets = {'A': 4, 'B': 5, 'C': 7}\n",
    "\n",
    "fish_types.setValues(entertainment_values.keys())\n",
    "companies.setValues(prices.keys())\n",
    "\n",
    "for fish_type in fish_types:\n",
    "    ampl.getParameter('EntertainmentValue').setValues({fish_type: entertainment_values[fish_type]})\n",
    "    for company in companies:\n",
    "        ampl.getParameter('Price').setValues({(company, fish_type): prices[company][fish_type]})\n",
    "    ampl.getParameter('MaxBudget').setValues({company: max_budgets[company] for company in companies})\n",
    "\n",
    "# Specify the solver\n",
    "ampl.setOption('solver', 'cbc')  # cbc or ipopt\n",
    "\n",
    "# Solve the optimization problem\n",
    "ampl.solve()\n",
    "\n",
    "# Display the results\n",
    "print(\"Optimal Catch:\")\n",
    "for fish_type in fish_types:\n",
    "    print(f\"{fish_type}: {ampl.getVariable('Catch')[fish_type].value()} kilograms\")\n",
    "\n",
    "total_entertainment = ampl.getObjective(\"TotalEntertainment\").value()\n",
    "print(f\"Total Entertainment Value: {total_entertainment:.2f}\")\n",
    "\n",
    "# Close the AMPL instance\n",
    "ampl.close()"
   ]
  },
  {
   "cell_type": "markdown",
   "metadata": {
    "id": "sRatp4_O5Yj4"
   },
   "source": [
    "### IPOPT Solver"
   ]
  },
  {
   "cell_type": "code",
   "execution_count": 22,
   "metadata": {
    "colab": {
     "base_uri": "https://localhost:8080/"
    },
    "id": "24D6z8yH5dOM",
    "outputId": "ee1ed6c2-a75c-47e2-8dac-3e08172aa205"
   },
   "outputs": [
    {
     "name": "stdout",
     "output_type": "stream",
     "text": [
      "Ipopt 3.12.13: \n",
      "\n",
      "******************************************************************************\n",
      "This program contains Ipopt, a library for large-scale nonlinear optimization.\n",
      " Ipopt is released as open source code under the Eclipse Public License (EPL).\n",
      "         For more information visit http://projects.coin-or.org/Ipopt\n",
      "******************************************************************************\n",
      "\n",
      "This is Ipopt version 3.12.13, running with linear solver mumps.\n",
      "NOTE: Other linear solvers might be more efficient (see Ipopt documentation).\n",
      "\n",
      "Number of nonzeros in equality constraint Jacobian...:        0\n",
      "Number of nonzeros in inequality constraint Jacobian.:        8\n",
      "Number of nonzeros in Lagrangian Hessian.............:        0\n",
      "\n",
      "Total number of variables............................:        3\n",
      "                     variables with only lower bounds:        3\n",
      "                variables with lower and upper bounds:        0\n",
      "                     variables with only upper bounds:        0\n",
      "Total number of equality constraints.................:        0\n",
      "Total number of inequality constraints...............:        3\n",
      "        inequality constraints with only lower bounds:        0\n",
      "   inequality constraints with lower and upper bounds:        0\n",
      "        inequality constraints with only upper bounds:        3\n",
      "\n",
      "iter    objective    inf_pr   inf_du lg(mu)  ||d||  lg(rg) alpha_du alpha_pr  ls\n",
      "   0 -8.9999910e-02 0.00e+00 7.06e-01  -1.0 0.00e+00    -  0.00e+00 0.00e+00   0\n",
      "   1 -1.2030324e+00 0.00e+00 3.08e+00  -1.0 9.90e-01    -  2.43e-01 1.00e+00f  1\n",
      "   2 -7.7035580e+00 0.00e+00 3.21e-01  -1.0 5.88e+00    -  4.68e-01 9.98e-01f  1\n",
      "   3 -9.1565929e+00 0.00e+00 1.00e-06  -1.0 2.90e+00    -  1.00e+00 1.00e+00f  1\n",
      "   4 -9.4304978e+00 0.00e+00 3.86e-03  -1.7 2.91e-01    -  9.79e-01 1.00e+00f  1\n",
      "   5 -9.4925063e+00 0.00e+00 2.83e-08  -2.5 4.76e-02    -  1.00e+00 1.00e+00f  1\n",
      "   6 -9.4995569e+00 0.00e+00 1.50e-09  -3.8 4.50e-03    -  1.00e+00 1.00e+00f  1\n",
      "   7 -9.4999946e+00 0.00e+00 1.84e-11  -5.7 2.93e-04    -  1.00e+00 1.00e+00f  1\n",
      "   8 -9.5000001e+00 0.00e+00 2.53e-14  -8.6 3.67e-06    -  1.00e+00 1.00e+00f  1\n",
      "\n",
      "Number of Iterations....: 8\n",
      "\n",
      "                                   (scaled)                 (unscaled)\n",
      "Objective...............:  -9.5000001024858651e+00   -9.5000001024858651e+00\n",
      "Dual infeasibility......:   2.5313084961453569e-14    2.5313084961453569e-14\n",
      "Constraint violation....:   0.0000000000000000e+00    0.0000000000000000e+00\n",
      "Complementarity.........:   2.5093183048452928e-09    2.5093183048452928e-09\n",
      "Overall NLP error.......:   2.5093183048452928e-09    2.5093183048452928e-09\n",
      "\n",
      "\n",
      "Number of objective function evaluations             = 9\n",
      "Number of objective gradient evaluations             = 9\n",
      "Number of equality constraint evaluations            = 0\n",
      "Number of inequality constraint evaluations          = 9\n",
      "Number of equality constraint Jacobian evaluations   = 0\n",
      "Number of inequality constraint Jacobian evaluations = 9\n",
      "Number of Lagrangian Hessian evaluations             = 8\n",
      "Total CPU secs in IPOPT (w/o function evaluations)   =      0.009\n",
      "Total CPU secs in NLP function evaluations           =      0.000\n",
      "\n",
      "EXIT: Optimal Solution Found.\n",
      "\b\b\b\b\b\b\b\b\b\b\b\b\b\b\b \n",
      "Ipopt 3.12.13: Optimal Solution Found\n",
      "\n",
      "suffix ipopt_zU_out OUT;\n",
      "suffix ipopt_zL_out OUT;\n",
      "Optimal Catch:\n",
      "carp: 2.5000000349900575 kilograms\n",
      "bream: 0.0 kilograms\n",
      "perch: 0.5000000035435542 kilograms\n",
      "Total Entertainment Value: 9.50\n"
     ]
    }
   ],
   "source": [
    "# Create an AMPL instance\n",
    "ampl = AMPL()\n",
    "\n",
    "# Load the AMPL model from a string (the model provided earlier)\n",
    "ampl.eval(\"\"\"\n",
    "set FishTypes;\n",
    "set Companies;\n",
    "\n",
    "param EntertainmentValue{FishTypes};\n",
    "param Price{Companies, FishTypes};\n",
    "param MaxBudget{Companies};\n",
    "\n",
    "var Catch{FishTypes} >= 0;\n",
    "\n",
    "maximize TotalEntertainment:\n",
    "    sum{f in FishTypes} EntertainmentValue[f] * Catch[f];\n",
    "\n",
    "subject to CompanyBudgetConstraint{c in Companies}:\n",
    "    sum{f in FishTypes} Price[c, f] * Catch[f] <= MaxBudget[c];\n",
    "\"\"\")\n",
    "\n",
    "# Set the data for the model\n",
    "fish_types = ampl.getSet(\"FishTypes\")\n",
    "companies = ampl.getSet(\"Companies\")\n",
    "\n",
    "entertainment_values = {'carp': 3, 'bream': 2, 'perch': 4}\n",
    "prices = {'A': {'carp': 1, 'bream': 1, 'perch': 2},\n",
    "          'B': {'carp': 2, 'bream': 3, 'perch': 0},\n",
    "          'C': {'carp': 2, 'bream': 2, 'perch': 4}}\n",
    "max_budgets = {'A': 4, 'B': 5, 'C': 7}\n",
    "\n",
    "fish_types.setValues(entertainment_values.keys())\n",
    "companies.setValues(prices.keys())\n",
    "\n",
    "for fish_type in fish_types:\n",
    "    ampl.getParameter('EntertainmentValue').setValues({fish_type: entertainment_values[fish_type]})\n",
    "    for company in companies:\n",
    "        ampl.getParameter('Price').setValues({(company, fish_type): prices[company][fish_type]})\n",
    "    ampl.getParameter('MaxBudget').setValues({company: max_budgets[company] for company in companies})\n",
    "\n",
    "# Specify the solver\n",
    "ampl.setOption('solver', 'ipopt')  # cbc or ipopt\n",
    "\n",
    "# Solve the optimization problem\n",
    "ampl.solve()\n",
    "\n",
    "# Display the results\n",
    "print(\"Optimal Catch:\")\n",
    "for fish_type in fish_types:\n",
    "    print(f\"{fish_type}: {ampl.getVariable('Catch')[fish_type].value()} kilograms\")\n",
    "\n",
    "total_entertainment = ampl.getObjective(\"TotalEntertainment\").value()\n",
    "print(f\"Total Entertainment Value: {total_entertainment:.2f}\")\n",
    "\n",
    "# Close the AMPL instance\n",
    "ampl.close()"
   ]
  },
  {
   "cell_type": "code",
   "execution_count": null,
   "metadata": {
    "id": "6o5WgX7P5e3l"
   },
   "outputs": [],
   "source": []
  }
 ],
 "metadata": {
  "colab": {
   "provenance": []
  },
  "kernelspec": {
   "display_name": "Python 3 (ipykernel)",
   "language": "python",
   "name": "python3"
  },
  "language_info": {
   "codemirror_mode": {
    "name": "ipython",
    "version": 3
   },
   "file_extension": ".py",
   "mimetype": "text/x-python",
   "name": "python",
   "nbconvert_exporter": "python",
   "pygments_lexer": "ipython3",
   "version": "3.11.4"
  }
 },
 "nbformat": 4,
 "nbformat_minor": 1
}
